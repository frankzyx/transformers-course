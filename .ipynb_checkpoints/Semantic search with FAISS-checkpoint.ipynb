{
 "cells": [
  {
   "cell_type": "markdown",
   "id": "666bc6c8-a3b7-4e8e-9317-9ec1bc75359c",
   "metadata": {},
   "source": [
    "HuggingFace tutorial page:\n",
    "\n",
    "https://huggingface.co/learn/llm-course/chapter5/6"
   ]
  },
  {
   "cell_type": "markdown",
   "id": "5efe3e6e-4c2c-45eb-aa8b-1d0bdcb127a4",
   "metadata": {},
   "source": [
    "# Load dataset"
   ]
  },
  {
   "cell_type": "code",
   "execution_count": 1,
   "id": "6cb5603d-6968-45ad-8023-0d1cee4c5469",
   "metadata": {},
   "outputs": [
    {
     "name": "stderr",
     "output_type": "stream",
     "text": [
      "/Users/yxzhou/learning/transformers-course/.env/lib/python3.9/site-packages/urllib3/__init__.py:35: NotOpenSSLWarning: urllib3 v2 only supports OpenSSL 1.1.1+, currently the 'ssl' module is compiled with 'LibreSSL 2.8.3'. See: https://github.com/urllib3/urllib3/issues/3020\n",
      "  warnings.warn(\n"
     ]
    }
   ],
   "source": [
    "from datasets import load_dataset, Dataset"
   ]
  },
  {
   "cell_type": "code",
   "execution_count": 2,
   "id": "458fc21c-028e-4e12-b6cb-69f2cbd4ec5c",
   "metadata": {},
   "outputs": [
    {
     "name": "stderr",
     "output_type": "stream",
     "text": [
      "Repo card metadata block was not found. Setting CardData to empty.\n"
     ]
    },
    {
     "data": {
      "text/plain": [
       "Dataset({\n",
       "    features: ['url', 'repository_url', 'labels_url', 'comments_url', 'events_url', 'html_url', 'id', 'node_id', 'number', 'title', 'user', 'labels', 'state', 'locked', 'assignee', 'assignees', 'milestone', 'comments', 'created_at', 'updated_at', 'closed_at', 'author_association', 'active_lock_reason', 'pull_request', 'body', 'timeline_url', 'performed_via_github_app', 'is_pull_request'],\n",
       "    num_rows: 3019\n",
       "})"
      ]
     },
     "execution_count": 2,
     "metadata": {},
     "output_type": "execute_result"
    }
   ],
   "source": [
    "issues_dataset = load_dataset(\"lewtun/github-issues\", split=\"train\")\n",
    "issues_dataset"
   ]
  },
  {
   "cell_type": "code",
   "execution_count": 3,
   "id": "d14e144b-fcc2-409c-a24c-353efd8fcbe5",
   "metadata": {},
   "outputs": [
    {
     "data": {
      "text/plain": [
       "Dataset({\n",
       "    features: ['url', 'repository_url', 'labels_url', 'comments_url', 'events_url', 'html_url', 'id', 'node_id', 'number', 'title', 'user', 'labels', 'state', 'locked', 'assignee', 'assignees', 'milestone', 'comments', 'created_at', 'updated_at', 'closed_at', 'author_association', 'active_lock_reason', 'pull_request', 'body', 'timeline_url', 'performed_via_github_app', 'is_pull_request'],\n",
       "    num_rows: 808\n",
       "})"
      ]
     },
     "execution_count": 3,
     "metadata": {},
     "output_type": "execute_result"
    }
   ],
   "source": [
    "# filter out pull_requests and issues without comments\n",
    "issues_dataset = issues_dataset.filter(\n",
    "    lambda x: x['is_pull_request'] == False and len(x['comments']) > 0\n",
    ")\n",
    "issues_dataset"
   ]
  },
  {
   "cell_type": "code",
   "execution_count": 4,
   "id": "3757d380-2528-4374-9cd4-18582b80903a",
   "metadata": {},
   "outputs": [
    {
     "data": {
      "text/plain": [
       "Dataset({\n",
       "    features: ['html_url', 'title', 'comments', 'body'],\n",
       "    num_rows: 808\n",
       "})"
      ]
     },
     "execution_count": 4,
     "metadata": {},
     "output_type": "execute_result"
    }
   ],
   "source": [
    "# filter out useless columns\n",
    "columns = issues_dataset.column_names\n",
    "columns_to_keep = ['title', 'body', 'html_url', 'comments']\n",
    "columns_to_remove = set(columns_to_keep).symmetric_difference(columns) # in either set, but not in both\n",
    "issues_dataset = issues_dataset.remove_columns(columns_to_remove)\n",
    "issues_dataset"
   ]
  },
  {
   "cell_type": "code",
   "execution_count": 5,
   "id": "64258a7f-4161-48df-939e-3804408284ea",
   "metadata": {},
   "outputs": [],
   "source": [
    "# for x in issues_dataset.shuffle(seed=42).select(range(10)):\n",
    "#     print(x)"
   ]
  },
  {
   "cell_type": "code",
   "execution_count": 6,
   "id": "d3774d15-f3bc-4fba-b667-fc7e0c49d5f0",
   "metadata": {},
   "outputs": [
    {
     "data": {
      "text/plain": [
       "Dataset({\n",
       "    features: ['html_url', 'title', 'comments', 'body'],\n",
       "    num_rows: 808\n",
       "})"
      ]
     },
     "execution_count": 6,
     "metadata": {},
     "output_type": "execute_result"
    }
   ],
   "source": [
    "issues_dataset"
   ]
  },
  {
   "cell_type": "code",
   "execution_count": 7,
   "id": "6dc85d31-eac8-4efd-aa9e-e4082ef03a08",
   "metadata": {},
   "outputs": [
    {
     "data": {
      "text/html": [
       "<div>\n",
       "<style scoped>\n",
       "    .dataframe tbody tr th:only-of-type {\n",
       "        vertical-align: middle;\n",
       "    }\n",
       "\n",
       "    .dataframe tbody tr th {\n",
       "        vertical-align: top;\n",
       "    }\n",
       "\n",
       "    .dataframe thead th {\n",
       "        text-align: right;\n",
       "    }\n",
       "</style>\n",
       "<table border=\"1\" class=\"dataframe\">\n",
       "  <thead>\n",
       "    <tr style=\"text-align: right;\">\n",
       "      <th></th>\n",
       "      <th>html_url</th>\n",
       "      <th>title</th>\n",
       "      <th>comments</th>\n",
       "      <th>body</th>\n",
       "    </tr>\n",
       "  </thead>\n",
       "  <tbody>\n",
       "    <tr>\n",
       "      <th>0</th>\n",
       "      <td>https://github.com/huggingface/datasets/issues...</td>\n",
       "      <td>Protect master branch</td>\n",
       "      <td>[Cool, I think we can do both :), @lhoestq now...</td>\n",
       "      <td>After accidental merge commit (91c55355b634d0d...</td>\n",
       "    </tr>\n",
       "    <tr>\n",
       "      <th>1</th>\n",
       "      <td>https://github.com/huggingface/datasets/issues...</td>\n",
       "      <td>Backwards compatibility broken for cached data...</td>\n",
       "      <td>[Hi ! I guess the caching mechanism should hav...</td>\n",
       "      <td>## Describe the bug\\r\\nAfter upgrading to data...</td>\n",
       "    </tr>\n",
       "    <tr>\n",
       "      <th>2</th>\n",
       "      <td>https://github.com/huggingface/datasets/issues...</td>\n",
       "      <td>OSCAR unshuffled_original_ko: NonMatchingSplit...</td>\n",
       "      <td>[I tried `unshuffled_original_da` and it is al...</td>\n",
       "      <td>## Describe the bug\\r\\n\\r\\nCannot download OSC...</td>\n",
       "    </tr>\n",
       "    <tr>\n",
       "      <th>3</th>\n",
       "      <td>https://github.com/huggingface/datasets/issues...</td>\n",
       "      <td>load_dataset using default cache on Windows ca...</td>\n",
       "      <td>[Hi @daqieq, thanks for reporting.\\r\\n\\r\\nUnfo...</td>\n",
       "      <td>## Describe the bug\\r\\nStandard process to dow...</td>\n",
       "    </tr>\n",
       "    <tr>\n",
       "      <th>4</th>\n",
       "      <td>https://github.com/huggingface/datasets/issues...</td>\n",
       "      <td>to_tf_dataset keeps a reference to the open da...</td>\n",
       "      <td>[I did some investigation and, as it seems, th...</td>\n",
       "      <td>To reproduce:\\r\\n```python\\r\\nimport datasets ...</td>\n",
       "    </tr>\n",
       "    <tr>\n",
       "      <th>...</th>\n",
       "      <td>...</td>\n",
       "      <td>...</td>\n",
       "      <td>...</td>\n",
       "      <td>...</td>\n",
       "    </tr>\n",
       "    <tr>\n",
       "      <th>803</th>\n",
       "      <td>https://github.com/huggingface/datasets/issues/6</td>\n",
       "      <td>Error when citation is not given in the Datase...</td>\n",
       "      <td>[Yes looks good to me.\\r\\nNote that we may ref...</td>\n",
       "      <td>The following error is raised when the `citati...</td>\n",
       "    </tr>\n",
       "    <tr>\n",
       "      <th>804</th>\n",
       "      <td>https://github.com/huggingface/datasets/issues/5</td>\n",
       "      <td>ValueError when a split is empty</td>\n",
       "      <td>[To fix this I propose to modify only the file...</td>\n",
       "      <td>When a split is empty either TEST, VALIDATION ...</td>\n",
       "    </tr>\n",
       "    <tr>\n",
       "      <th>805</th>\n",
       "      <td>https://github.com/huggingface/datasets/issues/4</td>\n",
       "      <td>[Feature] Keep the list of labels of a dataset...</td>\n",
       "      <td>[Yes! I see mostly two options for this:\\r\\n- ...</td>\n",
       "      <td>It would be useful to keep the list of the lab...</td>\n",
       "    </tr>\n",
       "    <tr>\n",
       "      <th>806</th>\n",
       "      <td>https://github.com/huggingface/datasets/issues/3</td>\n",
       "      <td>[Feature] More dataset outputs</td>\n",
       "      <td>[Yes!\\r\\n- pandas will be a one-liner in `arro...</td>\n",
       "      <td>Add the following dataset outputs:\\r\\n\\r\\n- Sp...</td>\n",
       "    </tr>\n",
       "    <tr>\n",
       "      <th>807</th>\n",
       "      <td>https://github.com/huggingface/datasets/issues/2</td>\n",
       "      <td>Issue to read a local dataset</td>\n",
       "      <td>[My first bug report ❤️\\r\\nLooking into this r...</td>\n",
       "      <td>Hello,\\r\\n\\r\\nAs proposed by @thomwolf, I open...</td>\n",
       "    </tr>\n",
       "  </tbody>\n",
       "</table>\n",
       "<p>808 rows × 4 columns</p>\n",
       "</div>"
      ],
      "text/plain": [
       "                                              html_url  \\\n",
       "0    https://github.com/huggingface/datasets/issues...   \n",
       "1    https://github.com/huggingface/datasets/issues...   \n",
       "2    https://github.com/huggingface/datasets/issues...   \n",
       "3    https://github.com/huggingface/datasets/issues...   \n",
       "4    https://github.com/huggingface/datasets/issues...   \n",
       "..                                                 ...   \n",
       "803   https://github.com/huggingface/datasets/issues/6   \n",
       "804   https://github.com/huggingface/datasets/issues/5   \n",
       "805   https://github.com/huggingface/datasets/issues/4   \n",
       "806   https://github.com/huggingface/datasets/issues/3   \n",
       "807   https://github.com/huggingface/datasets/issues/2   \n",
       "\n",
       "                                                 title  \\\n",
       "0                                Protect master branch   \n",
       "1    Backwards compatibility broken for cached data...   \n",
       "2    OSCAR unshuffled_original_ko: NonMatchingSplit...   \n",
       "3    load_dataset using default cache on Windows ca...   \n",
       "4    to_tf_dataset keeps a reference to the open da...   \n",
       "..                                                 ...   \n",
       "803  Error when citation is not given in the Datase...   \n",
       "804                   ValueError when a split is empty   \n",
       "805  [Feature] Keep the list of labels of a dataset...   \n",
       "806                     [Feature] More dataset outputs   \n",
       "807                      Issue to read a local dataset   \n",
       "\n",
       "                                              comments  \\\n",
       "0    [Cool, I think we can do both :), @lhoestq now...   \n",
       "1    [Hi ! I guess the caching mechanism should hav...   \n",
       "2    [I tried `unshuffled_original_da` and it is al...   \n",
       "3    [Hi @daqieq, thanks for reporting.\\r\\n\\r\\nUnfo...   \n",
       "4    [I did some investigation and, as it seems, th...   \n",
       "..                                                 ...   \n",
       "803  [Yes looks good to me.\\r\\nNote that we may ref...   \n",
       "804  [To fix this I propose to modify only the file...   \n",
       "805  [Yes! I see mostly two options for this:\\r\\n- ...   \n",
       "806  [Yes!\\r\\n- pandas will be a one-liner in `arro...   \n",
       "807  [My first bug report ❤️\\r\\nLooking into this r...   \n",
       "\n",
       "                                                  body  \n",
       "0    After accidental merge commit (91c55355b634d0d...  \n",
       "1    ## Describe the bug\\r\\nAfter upgrading to data...  \n",
       "2    ## Describe the bug\\r\\n\\r\\nCannot download OSC...  \n",
       "3    ## Describe the bug\\r\\nStandard process to dow...  \n",
       "4    To reproduce:\\r\\n```python\\r\\nimport datasets ...  \n",
       "..                                                 ...  \n",
       "803  The following error is raised when the `citati...  \n",
       "804  When a split is empty either TEST, VALIDATION ...  \n",
       "805  It would be useful to keep the list of the lab...  \n",
       "806  Add the following dataset outputs:\\r\\n\\r\\n- Sp...  \n",
       "807  Hello,\\r\\n\\r\\nAs proposed by @thomwolf, I open...  \n",
       "\n",
       "[808 rows x 4 columns]"
      ]
     },
     "execution_count": 7,
     "metadata": {},
     "output_type": "execute_result"
    }
   ],
   "source": [
    "# convert to pandas\n",
    "issues_dataset.set_format('pandas')\n",
    "df = issues_dataset[:]\n",
    "df"
   ]
  },
  {
   "cell_type": "code",
   "execution_count": 8,
   "id": "e08976bd-88a6-40f0-82f9-0c1ea3ce7c84",
   "metadata": {},
   "outputs": [
    {
     "data": {
      "text/html": [
       "<div>\n",
       "<style scoped>\n",
       "    .dataframe tbody tr th:only-of-type {\n",
       "        vertical-align: middle;\n",
       "    }\n",
       "\n",
       "    .dataframe tbody tr th {\n",
       "        vertical-align: top;\n",
       "    }\n",
       "\n",
       "    .dataframe thead th {\n",
       "        text-align: right;\n",
       "    }\n",
       "</style>\n",
       "<table border=\"1\" class=\"dataframe\">\n",
       "  <thead>\n",
       "    <tr style=\"text-align: right;\">\n",
       "      <th></th>\n",
       "      <th>html_url</th>\n",
       "      <th>title</th>\n",
       "      <th>comments</th>\n",
       "      <th>body</th>\n",
       "    </tr>\n",
       "  </thead>\n",
       "  <tbody>\n",
       "    <tr>\n",
       "      <th>0</th>\n",
       "      <td>https://github.com/huggingface/datasets/issues...</td>\n",
       "      <td>Protect master branch</td>\n",
       "      <td>Cool, I think we can do both :)</td>\n",
       "      <td>After accidental merge commit (91c55355b634d0d...</td>\n",
       "    </tr>\n",
       "    <tr>\n",
       "      <th>1</th>\n",
       "      <td>https://github.com/huggingface/datasets/issues...</td>\n",
       "      <td>Protect master branch</td>\n",
       "      <td>@lhoestq now the 2 are implemented.\\r\\n\\r\\nPle...</td>\n",
       "      <td>After accidental merge commit (91c55355b634d0d...</td>\n",
       "    </tr>\n",
       "    <tr>\n",
       "      <th>2</th>\n",
       "      <td>https://github.com/huggingface/datasets/issues...</td>\n",
       "      <td>Backwards compatibility broken for cached data...</td>\n",
       "      <td>Hi ! I guess the caching mechanism should have...</td>\n",
       "      <td>## Describe the bug\\r\\nAfter upgrading to data...</td>\n",
       "    </tr>\n",
       "    <tr>\n",
       "      <th>3</th>\n",
       "      <td>https://github.com/huggingface/datasets/issues...</td>\n",
       "      <td>Backwards compatibility broken for cached data...</td>\n",
       "      <td>If it's easy enough to implement, then yes ple...</td>\n",
       "      <td>## Describe the bug\\r\\nAfter upgrading to data...</td>\n",
       "    </tr>\n",
       "    <tr>\n",
       "      <th>4</th>\n",
       "      <td>https://github.com/huggingface/datasets/issues...</td>\n",
       "      <td>Backwards compatibility broken for cached data...</td>\n",
       "      <td>Well it can cause issue with anyone that updat...</td>\n",
       "      <td>## Describe the bug\\r\\nAfter upgrading to data...</td>\n",
       "    </tr>\n",
       "  </tbody>\n",
       "</table>\n",
       "</div>"
      ],
      "text/plain": [
       "                                            html_url  \\\n",
       "0  https://github.com/huggingface/datasets/issues...   \n",
       "1  https://github.com/huggingface/datasets/issues...   \n",
       "2  https://github.com/huggingface/datasets/issues...   \n",
       "3  https://github.com/huggingface/datasets/issues...   \n",
       "4  https://github.com/huggingface/datasets/issues...   \n",
       "\n",
       "                                               title  \\\n",
       "0                              Protect master branch   \n",
       "1                              Protect master branch   \n",
       "2  Backwards compatibility broken for cached data...   \n",
       "3  Backwards compatibility broken for cached data...   \n",
       "4  Backwards compatibility broken for cached data...   \n",
       "\n",
       "                                            comments  \\\n",
       "0                    Cool, I think we can do both :)   \n",
       "1  @lhoestq now the 2 are implemented.\\r\\n\\r\\nPle...   \n",
       "2  Hi ! I guess the caching mechanism should have...   \n",
       "3  If it's easy enough to implement, then yes ple...   \n",
       "4  Well it can cause issue with anyone that updat...   \n",
       "\n",
       "                                                body  \n",
       "0  After accidental merge commit (91c55355b634d0d...  \n",
       "1  After accidental merge commit (91c55355b634d0d...  \n",
       "2  ## Describe the bug\\r\\nAfter upgrading to data...  \n",
       "3  ## Describe the bug\\r\\nAfter upgrading to data...  \n",
       "4  ## Describe the bug\\r\\nAfter upgrading to data...  "
      ]
     },
     "execution_count": 8,
     "metadata": {},
     "output_type": "execute_result"
    }
   ],
   "source": [
    "# expand comment list\n",
    "comments_df = df.explode(\"comments\", ignore_index=True)\n",
    "comments_df.head()"
   ]
  },
  {
   "cell_type": "code",
   "execution_count": 9,
   "id": "ef3dc1f9-dfa3-478a-b459-94698da42917",
   "metadata": {},
   "outputs": [
    {
     "data": {
      "text/plain": [
       "Dataset({\n",
       "    features: ['html_url', 'title', 'comments', 'body'],\n",
       "    num_rows: 2964\n",
       "})"
      ]
     },
     "execution_count": 9,
     "metadata": {},
     "output_type": "execute_result"
    }
   ],
   "source": [
    "# switch back to hf dataset\n",
    "comments_dataset = Dataset.from_pandas(comments_df)\n",
    "comments_dataset"
   ]
  },
  {
   "cell_type": "code",
   "execution_count": 10,
   "id": "a770f2c7-9807-4724-a29e-cb0af13bd661",
   "metadata": {},
   "outputs": [
    {
     "data": {
      "application/vnd.jupyter.widget-view+json": {
       "model_id": "0287a5e8f6da4545afc074826263fd42",
       "version_major": 2,
       "version_minor": 0
      },
      "text/plain": [
       "Map:   0%|          | 0/2964 [00:00<?, ? examples/s]"
      ]
     },
     "metadata": {},
     "output_type": "display_data"
    },
    {
     "data": {
      "application/vnd.jupyter.widget-view+json": {
       "model_id": "90d1a492364f48ae86766acde2b903e0",
       "version_major": 2,
       "version_minor": 0
      },
      "text/plain": [
       "Filter:   0%|          | 0/2964 [00:00<?, ? examples/s]"
      ]
     },
     "metadata": {},
     "output_type": "display_data"
    },
    {
     "data": {
      "text/plain": [
       "Dataset({\n",
       "    features: ['html_url', 'title', 'comments', 'body', 'comment_length'],\n",
       "    num_rows: 2175\n",
       "})"
      ]
     },
     "execution_count": 10,
     "metadata": {},
     "output_type": "execute_result"
    }
   ],
   "source": [
    "comments_dataset = comments_dataset.map(\n",
    "    lambda x: {'comment_length': len(x['comments'].split())}\n",
    ")\n",
    "comments_dataset = comments_dataset.filter(\n",
    "    lambda x: x['comment_length'] > 15\n",
    ")\n",
    "comments_dataset"
   ]
  },
  {
   "cell_type": "code",
   "execution_count": 11,
   "id": "40595234-07ae-486c-8ef6-e8f71f916668",
   "metadata": {},
   "outputs": [
    {
     "data": {
      "application/vnd.jupyter.widget-view+json": {
       "model_id": "b75c36a8d68e424487f15f43fca8eeba",
       "version_major": 2,
       "version_minor": 0
      },
      "text/plain": [
       "Map:   0%|          | 0/2175 [00:00<?, ? examples/s]"
      ]
     },
     "metadata": {},
     "output_type": "display_data"
    },
    {
     "data": {
      "text/plain": [
       "Dataset({\n",
       "    features: ['html_url', 'title', 'comments', 'body', 'comment_length', 'text'],\n",
       "    num_rows: 2175\n",
       "})"
      ]
     },
     "execution_count": 11,
     "metadata": {},
     "output_type": "execute_result"
    }
   ],
   "source": [
    "def concat_text(examples):\n",
    "    return {\n",
    "        'text': examples['title'] + ' \\n '\n",
    "        + examples['body'] + ' \\n '\n",
    "        + examples['comments']\n",
    "    }\n",
    "\n",
    "comments_dataset = comments_dataset.map(concat_text)\n",
    "comments_dataset"
   ]
  },
  {
   "cell_type": "code",
   "execution_count": null,
   "id": "7d0b9c27-9268-42ea-9f22-e7b2553a07a8",
   "metadata": {},
   "outputs": [],
   "source": []
  },
  {
   "cell_type": "markdown",
   "id": "c90b9a12-6101-4fe4-99c5-c4cfcf70ee84",
   "metadata": {},
   "source": [
    "# Create text embeddings\n",
    "Use `sentence-transformers`"
   ]
  },
  {
   "cell_type": "code",
   "execution_count": 12,
   "id": "867b1f32-77be-4c16-b811-f6d6071e24ff",
   "metadata": {},
   "outputs": [],
   "source": [
    "from transformers import AutoTokenizer, AutoModel\n",
    "import torch"
   ]
  },
  {
   "cell_type": "code",
   "execution_count": 13,
   "id": "8f7dc980-8965-420e-b02a-0d9b742cb9c1",
   "metadata": {},
   "outputs": [],
   "source": [
    "model_ckpt = \"sentence-transformers/multi-qa-mpnet-base-dot-v1\"\n",
    "tokenizer = AutoTokenizer.from_pretrained(model_ckpt)\n",
    "model = AutoModel.from_pretrained(model_ckpt)"
   ]
  },
  {
   "cell_type": "code",
   "execution_count": 14,
   "id": "8bcb07ba-97c7-4d10-b439-bf25f907ce11",
   "metadata": {},
   "outputs": [],
   "source": [
    "def cls_pooling(model_output):\n",
    "    return model_output.last_hidden_state[:, 0]"
   ]
  },
  {
   "cell_type": "code",
   "execution_count": 15,
   "id": "722e8436-e49b-4cb7-abab-2617a47ef45e",
   "metadata": {},
   "outputs": [],
   "source": [
    "def get_embeddings(text_list):\n",
    "    encoded_input = tokenizer(\n",
    "        text_list, padding=True, truncation=True, return_tensors=\"pt\"\n",
    "    )\n",
    "    # print(encoded_input)\n",
    "    model_output = model(**encoded_input)\n",
    "    # print(model_output)\n",
    "    return cls_pooling(model_output)"
   ]
  },
  {
   "cell_type": "code",
   "execution_count": null,
   "id": "82e5c4d8-f945-48af-8662-749fb160bba9",
   "metadata": {},
   "outputs": [],
   "source": []
  },
  {
   "cell_type": "code",
   "execution_count": 37,
   "id": "7332316e-b036-40cc-9ed0-a3ba20e20a94",
   "metadata": {},
   "outputs": [],
   "source": [
    "# embedding = get_embeddings(comments_dataset['text'][0])\n",
    "# embedding.shape"
   ]
  },
  {
   "cell_type": "code",
   "execution_count": 17,
   "id": "f4622918-17b4-41fe-a38b-3cf86f1d9620",
   "metadata": {},
   "outputs": [
    {
     "data": {
      "application/vnd.jupyter.widget-view+json": {
       "model_id": "4bdfece5ac2d43a7b8056a6bdbcac5e6",
       "version_major": 2,
       "version_minor": 0
      },
      "text/plain": [
       "Map:   0%|          | 0/2175 [00:00<?, ? examples/s]"
      ]
     },
     "metadata": {},
     "output_type": "display_data"
    }
   ],
   "source": [
    "# make sure to cast to float32 to use FAISS (otherwise crashing)\n",
    "embeddings_dataset = comments_dataset.map(\n",
    "    lambda x: {'embeddings': get_embeddings(x['text']).detach().numpy().astype('float32')[0]}\n",
    ")"
   ]
  },
  {
   "cell_type": "markdown",
   "id": "0afec304-efea-4c95-8cde-7093f0200139",
   "metadata": {},
   "source": [
    "# Use FAISS for efficient similarity search"
   ]
  },
  {
   "cell_type": "code",
   "execution_count": null,
   "id": "dbf36279-b860-4e09-af7f-e3beba39f061",
   "metadata": {},
   "outputs": [],
   "source": []
  },
  {
   "cell_type": "code",
   "execution_count": 30,
   "id": "085f8a65-81cc-4245-b4b7-d4550514fa2c",
   "metadata": {},
   "outputs": [
    {
     "data": {
      "application/vnd.jupyter.widget-view+json": {
       "model_id": "59d389f1d54945ebabbefe12218265b5",
       "version_major": 2,
       "version_minor": 0
      },
      "text/plain": [
       "  0%|          | 0/3 [00:00<?, ?it/s]"
      ]
     },
     "metadata": {},
     "output_type": "display_data"
    },
    {
     "data": {
      "text/plain": [
       "Dataset({\n",
       "    features: ['html_url', 'title', 'comments', 'body', 'comment_length', 'text', 'embeddings'],\n",
       "    num_rows: 2175\n",
       "})"
      ]
     },
     "execution_count": 30,
     "metadata": {},
     "output_type": "execute_result"
    }
   ],
   "source": [
    "embeddings_dataset.add_faiss_index(column='embeddings')"
   ]
  },
  {
   "cell_type": "code",
   "execution_count": 31,
   "id": "7ce27135-03d7-484b-80d8-7b3453214a71",
   "metadata": {},
   "outputs": [
    {
     "data": {
      "text/plain": [
       "(1, 768)"
      ]
     },
     "execution_count": 31,
     "metadata": {},
     "output_type": "execute_result"
    }
   ],
   "source": [
    "question = \"How can I load a dataset offline?\"\n",
    "question_embedding = get_embeddings([question]).cpu().detach().numpy()\n",
    "question_embedding.shape"
   ]
  },
  {
   "cell_type": "code",
   "execution_count": null,
   "id": "1e86c329-1007-492e-a17f-bb49a5c18d36",
   "metadata": {},
   "outputs": [],
   "source": [
    "# scores, samples = embeddings_dataset.get_nearest_examples(\n",
    "#     'embeddings', question_embedding, k=1\n",
    "# )"
   ]
  },
  {
   "cell_type": "markdown",
   "id": "d4db411b-106d-4bd1-a21f-dab624cf2245",
   "metadata": {},
   "source": [
    "### debug"
   ]
  },
  {
   "cell_type": "code",
   "execution_count": 20,
   "id": "e226c59c-9a7d-4c10-bd91-72a42f876449",
   "metadata": {},
   "outputs": [
    {
     "data": {
      "text/plain": [
       "dtype('float32')"
      ]
     },
     "execution_count": 20,
     "metadata": {},
     "output_type": "execute_result"
    }
   ],
   "source": [
    "question_embedding.dtype"
   ]
  },
  {
   "cell_type": "code",
   "execution_count": null,
   "id": "d9e7a97d-a663-4634-bd21-0f4a036c0c71",
   "metadata": {},
   "outputs": [],
   "source": []
  },
  {
   "cell_type": "code",
   "execution_count": 21,
   "id": "c5e4b9e6-cc9d-46e2-91d1-10e52023e91a",
   "metadata": {},
   "outputs": [
    {
     "name": "stdout",
     "output_type": "stream",
     "text": [
      "<class 'list'>\n",
      "float64\n"
     ]
    }
   ],
   "source": [
    "import numpy as np\n",
    "print(type(embeddings_dataset[0]['embeddings']))\n",
    "print(np.array(embeddings_dataset[0]['embeddings']).dtype)"
   ]
  },
  {
   "cell_type": "code",
   "execution_count": 22,
   "id": "afc2eda4-a7e4-4997-8d00-77c44660e804",
   "metadata": {},
   "outputs": [
    {
     "data": {
      "text/plain": [
       "768"
      ]
     },
     "execution_count": 22,
     "metadata": {},
     "output_type": "execute_result"
    }
   ],
   "source": [
    "expected_dim = len(embeddings_dataset[0]['embeddings'])\n",
    "expected_dim"
   ]
  },
  {
   "cell_type": "code",
   "execution_count": 29,
   "id": "1f96f548-9713-42a0-8920-aa3bfd2f9ffe",
   "metadata": {},
   "outputs": [
    {
     "data": {
      "text/plain": [
       "dtype('float64')"
      ]
     },
     "execution_count": 29,
     "metadata": {},
     "output_type": "execute_result"
    }
   ],
   "source": [
    "np.array(embeddings_dataset[0]['embeddings']).dtype"
   ]
  },
  {
   "cell_type": "code",
   "execution_count": 35,
   "id": "51cf2a3f-555e-43d6-8368-1846d2345d93",
   "metadata": {},
   "outputs": [
    {
     "data": {
      "application/vnd.jupyter.widget-view+json": {
       "model_id": "1954dd6ef75347d4bec96f590c10d167",
       "version_major": 2,
       "version_minor": 0
      },
      "text/plain": [
       "Map:   0%|          | 0/2175 [00:00<?, ? examples/s]"
      ]
     },
     "metadata": {},
     "output_type": "display_data"
    },
    {
     "data": {
      "application/vnd.jupyter.widget-view+json": {
       "model_id": "4084d02038bf4fb880194d845bc0e2a5",
       "version_major": 2,
       "version_minor": 0
      },
      "text/plain": [
       "  0%|          | 0/3 [00:00<?, ?it/s]"
      ]
     },
     "metadata": {},
     "output_type": "display_data"
    },
    {
     "data": {
      "text/plain": [
       "Dataset({\n",
       "    features: ['html_url', 'title', 'comments', 'body', 'comment_length', 'text', 'embeddings'],\n",
       "    num_rows: 2175\n",
       "})"
      ]
     },
     "execution_count": 35,
     "metadata": {},
     "output_type": "execute_result"
    }
   ],
   "source": [
    "# Convert all embeddings to float32\n",
    "def convert_to_float32(example):\n",
    "    example['embeddings'] = np.array(example['embeddings'], dtype=np.float32).tolist()\n",
    "    return example\n",
    "\n",
    "# Apply conversion to entire dataset\n",
    "embeddings_dataset_new = embeddings_dataset.map(convert_to_float32)\n",
    "\n",
    "# Rebuild the FAISS index with float32 data\n",
    "# embeddings_dataset_new.drop_index('embeddings')  # Remove old index\n",
    "embeddings_dataset_new.add_faiss_index(column='embeddings')"
   ]
  },
  {
   "cell_type": "code",
   "execution_count": 36,
   "id": "7e2cfdff-572a-413a-8343-cc949d4662ba",
   "metadata": {},
   "outputs": [
    {
     "name": "stdout",
     "output_type": "stream",
     "text": [
      "float64\n"
     ]
    }
   ],
   "source": [
    "print(np.array(embeddings_dataset_new[0]['embeddings']).dtype)"
   ]
  },
  {
   "cell_type": "code",
   "execution_count": null,
   "id": "5ab9beef-b279-42b4-9811-008a64d428ad",
   "metadata": {},
   "outputs": [],
   "source": []
  }
 ],
 "metadata": {
  "kernelspec": {
   "display_name": "Python (myenv)",
   "language": "python",
   "name": "myenv"
  },
  "language_info": {
   "codemirror_mode": {
    "name": "ipython",
    "version": 3
   },
   "file_extension": ".py",
   "mimetype": "text/x-python",
   "name": "python",
   "nbconvert_exporter": "python",
   "pygments_lexer": "ipython3",
   "version": "3.9.6"
  }
 },
 "nbformat": 4,
 "nbformat_minor": 5
}
